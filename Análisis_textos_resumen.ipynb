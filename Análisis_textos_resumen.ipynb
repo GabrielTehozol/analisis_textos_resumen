{
  "nbformat": 4,
  "nbformat_minor": 0,
  "metadata": {
    "colab": {
      "provenance": []
    },
    "kernelspec": {
      "name": "python3",
      "display_name": "Python 3"
    },
    "language_info": {
      "name": "python"
    }
  },
  "cells": [
    {
      "cell_type": "markdown",
      "source": [
        "#**Análisis de textos. Resumen**"
      ],
      "metadata": {
        "id": "zwJHeZodIKYE"
      }
    },
    {
      "cell_type": "markdown",
      "source": [
        "Elaborado por: Gabriel Tehozol\n",
        "* Contacto: gabrieltehozol@gmail.com"
      ],
      "metadata": {
        "id": "J_tAYu-jUvHv"
      }
    },
    {
      "cell_type": "markdown",
      "source": [
        "El siguiente código elabora un resumen, de un texto proveniente de un archivo tipo \"pdf\", y lo guarda en un archivo tipo \"word\"."
      ],
      "metadata": {
        "id": "iSB0-gsjVHkM"
      }
    },
    {
      "cell_type": "code",
      "execution_count": null,
      "metadata": {
        "id": "cKqIbSu6FrNK"
      },
      "outputs": [],
      "source": [
        "# Instalación de librerías (si no están previamente instaladas)\n",
        "!pip install gensim==3.8.3\n",
        "!pip install PyPDF2\n",
        "!pip install python-docx"
      ]
    },
    {
      "cell_type": "markdown",
      "source": [
        "El código importa la biblioteca, puede usar las funciones y clases incluidas en PyPDF2 para manipular archivos PDF en su código. También importa la libreria \"docx\" la cual permite manipular documentos de word. Adicionalmente de la librería gensim se importa la función \"summarize\" quien ayudará con la elaboración del resumen."
      ],
      "metadata": {
        "id": "enwrQZzBIaNL"
      }
    },
    {
      "cell_type": "code",
      "source": [
        "# Importamos librearías\n",
        "import PyPDF2\n",
        "import docx\n",
        "from gensim.summarization.summarizer import summarize"
      ],
      "metadata": {
        "id": "lcZmXnIVHt5D"
      },
      "execution_count": 2,
      "outputs": []
    },
    {
      "cell_type": "code",
      "source": [
        "# El siguiente código abre un archivo PDF llamado \"regresion_lineal_simple.pdf\" en modo de lectura binaria (\"rb\") \n",
        "# y crea un objeto pdf_file. Luego, utiliza el objeto pdf_file como entrada para crear un objeto pdf_reader \n",
        "# usando la clase PdfFileReader de la biblioteca PyPDF2.\n",
        "pdf_file = open(\"regresion_lineal_simple.pdf\", \"rb\")\n",
        "pdf_reader = PyPDF2.PdfReader(pdf_file)"
      ],
      "metadata": {
        "id": "_Al5e1JVHv7h"
      },
      "execution_count": 4,
      "outputs": []
    },
    {
      "cell_type": "code",
      "source": [
        "# Este código extrae el texto de un archivo PDF y lo almacena en una variable de cadena de texto llamada pdf_text.\n",
        "pdf_text = \"\"\n",
        "for page in pdf_reader.pages:\n",
        "    page_text = page.extract_text()\n",
        "    pdf_text += page_text"
      ],
      "metadata": {
        "id": "LWqi-9BOHytk"
      },
      "execution_count": 20,
      "outputs": []
    },
    {
      "cell_type": "code",
      "source": [
        "# Observamos nuestro texto obtenido, el cual en este caso es un \n",
        "# archivo escrito por su servidor, acerca de la regresión lineal simple\n",
        "print(pdf_text)"
      ],
      "metadata": {
        "id": "9d5Ku4rNH2yz"
      },
      "execution_count": null,
      "outputs": []
    },
    {
      "cell_type": "code",
      "source": [
        "# Texto a resumir, la variable ratio especifica el número entre 0 y 1 que determina la proporción \n",
        "# del número de frases del texto original a elegir para el resumen\n",
        "text = pdf_text\n",
        "texto_resumen = summarize(text, ratio=0.3)"
      ],
      "metadata": {
        "id": "OwF287s_NMwV"
      },
      "execution_count": 21,
      "outputs": []
    },
    {
      "cell_type": "code",
      "source": [
        "# Observamos nuestro texto resumido\n",
        "texto_resumen"
      ],
      "metadata": {
        "colab": {
          "base_uri": "https://localhost:8080/",
          "height": 175
        },
        "id": "p2BsMxWTNhr_",
        "outputId": "bada84a6-893a-403c-ccfd-20884ea02fb6"
      },
      "execution_count": 14,
      "outputs": [
        {
          "output_type": "execute_result",
          "data": {
            "text/plain": [
              "'La regresión lineal simple es un método estadístico que se utiliza para encontrar la \\nrelación entre una variable dependiente (y) y una o varias variables independientes \\nLa regresión lineal simple se utiliza para hacer \\npredicciones sobre el valor de la variable dependiente a partir de los va lores de la(s) \\nSupuestos de la regresión lineal simple  \\nLos supuestos de la regresión lineal simple son:  \\n• Independencia: los errores son independientes entre sí.\\nEs importante verificar que estos supuestos se cumplen antes de realizar un análisis \\nde regresión lineal simple, ya que su incumplimiento puede afectar a la validez de \\nencontrar la línea de regresión en un análisis de regresión lineal simple.\\norige n) que minimizan la suma de los cuadrados de las diferencias entre los valores \\nInterpretación de los resultados de la regresión lineal simple  \\nLos resultados de un análisis de regresión lineal simple  se pueden interpretar de \\ncoeficiente de la constante indica el valor de la variable dependiente cuando \\nevaluar si los coeficientes de regresión son estadísticamente significativos o \\nrelación entre la variable independiente y la variable dependiente es real y no \\nlos coeficientes de regresión para indicar la incertidumbre en los coefi cientes \\n• Predicciones: se pueden utilizar los coeficientes de regresión para hacer \\nLa función de coste es una medida del error entre el valor predicho y el valor real.\\nEn un análisis de regresión lineal simple, se utiliza la suma de los cuadrados de los  \\nevaluar el rendimiento del modelo y para encontrar los coeficientes de regresión que \\nes un método de optimización que se utiliza para encontrar los coeficientes de \\nregresión que minimizan la suma de los cuadrados de los errores.\\nencontrar los coeficientes de regresión óptimos.\\nEl modelo de regresión lineal simple es un modelo matemático que se utiliza para \\nEl modelo se representa mediante una ecuación lineal, donde los coeficien tes de regresión (beta) son los parámetros desconocidos y x es la \\nLa ecuación del modelo lineal simple es:  \\nLos coeficientes de regresión se estiman mediante el método de los mínimos \\nutilizan para hacer predicciones sobre el valor de la variable dependiente dado un \\nRetos y complejidades de la regresión lineal simple  \\nLa regresión lineal simple presenta varios retos y complejida des, algunos de los \\n• Supuestos: la regresión lineal simple tiene varios supuestos que deben \\ncumplirse para que los resultados sean válidos.\\nresultados de la regresión lineal simple, ya que el método de los mínimos \\n• Multicolinealidad: la regresión lineal simple asume que las variables \\nse cumple, los coeficientes de regresión pueden ser inestables e imprecisos.\\n• No linealidad: si la relación  entre la variable dependiente y las variables \\n• No linealidad: si la relación  entre la variable dependiente y las variables \\nindependientes es no lineal, el modelo de regresión lineal simple no es \\n• Limitaciones para la predicción: la regresión lineal simple se utiliza para hacer \\nregresión lineal simple no se puede abordar la interacción entre variables \\nAplicaciones de la regresión lineal simple  \\n• La regresión lineal simple se utiliza en una variedad de campos, algunas de \\n• Economía:  se utiliza para analizar la relación entre variables económicas \\n• Finanzas: se utiliza para analizar la relación entre variables financieras como \\n• Ciencias sociales: se utiliza para analizar la relación entre variables sociales \\n• Marketing: se utiliza para analizar la relación entre variables de marketing \\n• Ingeniería: se utiliza para analizar la relación entre variables de ingeniería \\n• Ciencias de la salud: se utiliza para analizar la relación entre variables \\n• Agricultura: se utiliza para analizar la relación entre variables agrícolas como \\n• La regresión lineal simple es una herramienta valiosa para enten der cómo \\nEstrategias para mejorar el rendimiento de la regresión lineal simple  \\nregresión lineal simple, algunas de ellas son:  \\n• Verificar y cumplir con los supuestos del modelo: Es importante verificar que \\nlos supuestos del modelo se cumplen antes de realizar un análisis de \\nsignificativamente los resultados de la regresión lineal simple.\\n• Utilizar modelos no lineales: Si la relación entre la variable dependiente y las \\nvariables independientes es no lineal, el modelo de regresión linea l simple no \\nEn estos casos, se pueden utilizar modelos no lineales como \\nlas características adecuadas para mejorar el rendimiento del modelo.\\nApplied linear regression models \\nSimple Linear Regression.\\nLinear Regression Analysis.\\nLinear Regression Analysis.\\nIntroduction to Linear Regression Analysis.'"
            ],
            "application/vnd.google.colaboratory.intrinsic+json": {
              "type": "string"
            }
          },
          "metadata": {},
          "execution_count": 14
        }
      ]
    },
    {
      "cell_type": "code",
      "source": [
        "# Finalmente guardamos nuestro resumen en un documento de word\n",
        "text = texto_resumen\n",
        "document = docx.Document()\n",
        "document.add_paragraph(text)\n",
        "document.save(\"regresión_lineal_simple_resumen.docx\")"
      ],
      "metadata": {
        "id": "UCYHq_K_N0UV"
      },
      "execution_count": 19,
      "outputs": []
    }
  ]
}
